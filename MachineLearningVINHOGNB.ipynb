{
  "nbformat": 4,
  "nbformat_minor": 0,
  "metadata": {
    "colab": {
      "name": "MachineLearningVINHOGNB.ipynb",
      "provenance": [],
      "authorship_tag": "ABX9TyPDHXGS8f5dI4ZVLrqHZq80",
      "include_colab_link": true
    },
    "kernelspec": {
      "name": "python3",
      "display_name": "Python 3"
    },
    "language_info": {
      "name": "python"
    }
  },
  "cells": [
    {
      "cell_type": "markdown",
      "metadata": {
        "id": "view-in-github",
        "colab_type": "text"
      },
      "source": [
        "<a href=\"https://colab.research.google.com/github/samuell2/MachineLearning/blob/main/MachineLearningVINHOGNB.ipynb\" target=\"_parent\"><img src=\"https://colab.research.google.com/assets/colab-badge.svg\" alt=\"Open In Colab\"/></a>"
      ]
    },
    {
      "cell_type": "code",
      "execution_count": 7,
      "metadata": {
        "id": "-WJ8W5aY4LZG"
      },
      "outputs": [],
      "source": [
        "from sklearn.datasets import load_wine\n",
        "from sklearn.model_selection import train_test_split\n",
        "from sklearn.naive_bayes import GaussianNB\n",
        "from sklearn.metrics import accuracy_score"
      ]
    },
    {
      "cell_type": "code",
      "source": [
        "# Carregar o dataset\n",
        "\n",
        "data = load_wine()"
      ],
      "metadata": {
        "id": "eFVDHkoZ49wz"
      },
      "execution_count": 8,
      "outputs": []
    },
    {
      "cell_type": "code",
      "source": [
        "# Organizar os dados\n",
        "\n",
        "label_names = data['target_names']\n",
        "\n",
        "labels = data['target']\n",
        "\n",
        "feature_names = data['feature_names']\n",
        "\n",
        "features = data['data']"
      ],
      "metadata": {
        "id": "k8WFMQvP553D"
      },
      "execution_count": 9,
      "outputs": []
    },
    {
      "cell_type": "code",
      "source": [
        "# Dividir dados\n",
        "\n",
        "train, test, train_labels, test_labels = train_test_split(features,\n",
        "\n",
        "                                                          labels,\n",
        "\n",
        "                                                          test_size=0.60,\n",
        "\n",
        "                                                          random_state=42)"
      ],
      "metadata": {
        "id": "6fhpQdji5-NW"
      },
      "execution_count": 15,
      "outputs": []
    },
    {
      "cell_type": "code",
      "source": [
        "# Inicializar o classificador\n",
        "\n",
        "gnb = GaussianNB()"
      ],
      "metadata": {
        "id": "9lddAmvq6DUK"
      },
      "execution_count": 16,
      "outputs": []
    },
    {
      "cell_type": "code",
      "source": [
        "# Treinar o classificador\n",
        "\n",
        "model = gnb.fit(train, train_labels)"
      ],
      "metadata": {
        "id": "yGO77vHe6vr-"
      },
      "execution_count": 17,
      "outputs": []
    },
    {
      "cell_type": "code",
      "source": [
        "preds = gnb.predict(test)\n",
        "\n",
        "print(preds)"
      ],
      "metadata": {
        "colab": {
          "base_uri": "https://localhost:8080/"
        },
        "id": "eB4fgI7o60BU",
        "outputId": "4a48be74-611a-4bdf-c942-42939ce78c5d"
      },
      "execution_count": 18,
      "outputs": [
        {
          "output_type": "stream",
          "name": "stdout",
          "text": [
            "[0 0 1 0 1 0 1 2 1 1 0 2 0 1 0 1 1 1 0 1 0 1 1 2 2 2 1 1 1 0 0 1 2 0 0 0 2\n",
            " 2 1 2 0 1 1 1 2 0 1 1 2 0 1 0 0 2 2 1 1 0 1 0 2 1 1 2 0 0 0 2 0 0 1 2 1 0\n",
            " 2 1 0 1 1 1 0 1 0 0 1 1 0 2 1 1 1 0 1 1 1 2 2 0 1 2 2 1 0 0 1 2 1]\n"
          ]
        }
      ]
    },
    {
      "cell_type": "code",
      "source": [
        "from sklearn.naive_bayes import GaussianNB\n",
        "\n",
        "print(accuracy_score(test_labels, preds))"
      ],
      "metadata": {
        "colab": {
          "base_uri": "https://localhost:8080/"
        },
        "id": "zx4vmNgp65Pl",
        "outputId": "5f833e4b-9f8a-4bc1-d88f-4d78fe8001ce"
      },
      "execution_count": 19,
      "outputs": [
        {
          "output_type": "stream",
          "name": "stdout",
          "text": [
            "0.9439252336448598\n"
          ]
        }
      ]
    }
  ]
}