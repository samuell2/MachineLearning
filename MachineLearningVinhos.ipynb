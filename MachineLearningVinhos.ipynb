{
  "nbformat": 4,
  "nbformat_minor": 0,
  "metadata": {
    "colab": {
      "name": "Untitled0.ipynb",
      "provenance": [],
      "collapsed_sections": [],
      "authorship_tag": "ABX9TyO+O5MiaC1N8524JwsO75/U",
      "include_colab_link": true
    },
    "kernelspec": {
      "name": "python3",
      "display_name": "Python 3"
    },
    "language_info": {
      "name": "python"
    }
  },
  "cells": [
    {
      "cell_type": "markdown",
      "metadata": {
        "id": "view-in-github",
        "colab_type": "text"
      },
      "source": [
        "<a href=\"https://colab.research.google.com/github/samuell2/MachineLearning/blob/main/MachineLearningVinhos.ipynb\" target=\"_parent\"><img src=\"https://colab.research.google.com/assets/colab-badge.svg\" alt=\"Open In Colab\"/></a>"
      ]
    },
    {
      "cell_type": "code",
      "execution_count": 55,
      "metadata": {
        "id": "FWfad_hb3eB6"
      },
      "outputs": [],
      "source": [
        "#implementaçao do dataset e do classificador\n",
        "from sklearn.datasets import load_wine\n",
        "from sklearn.model_selection import train_test_split\n",
        "from sklearn.ensemble import RandomForestClassifier\n",
        "from sklearn.metrics import accuracy_score"
      ]
    },
    {
      "cell_type": "code",
      "source": [
        "#Carregar o dataset\n",
        "data = load_wine()"
      ],
      "metadata": {
        "id": "camgTobZ5MN-"
      },
      "execution_count": 56,
      "outputs": []
    },
    {
      "cell_type": "code",
      "source": [
        "#Organizar os dados\n",
        "label_names = data['target_names']\n",
        "\n",
        "labels = data['target']\n",
        "\n",
        "feature_names = data['feature_names']\n",
        "\n",
        "features = data['data']"
      ],
      "metadata": {
        "id": "rjTtHhJl5UCo"
      },
      "execution_count": 57,
      "outputs": []
    },
    {
      "cell_type": "code",
      "source": [
        "# Imprimir dados\n",
        "\n",
        "#print(label_names)\n",
        "\n",
        "#print('Class label = ', labels[0])\n",
        "\n",
        "#print(feature_names)\n",
        "\n",
        "#print(features[0])"
      ],
      "metadata": {
        "id": "Seq-ovh35cC1"
      },
      "execution_count": 5,
      "outputs": []
    },
    {
      "cell_type": "code",
      "source": [
        "#inicializar o classificador\n",
        "clf = RandomForestClassifier()"
      ],
      "metadata": {
        "id": "48dvEoEs5s2j"
      },
      "execution_count": 58,
      "outputs": []
    },
    {
      "cell_type": "code",
      "source": [
        "# Dividir dados\n",
        "\n",
        "train, test, train_labels, test_labels = train_test_split(features,\n",
        "\n",
        "                                                          labels,\n",
        "\n",
        "                                                          test_size=0.60,\n",
        "\n",
        "                                                          random_state=42)"
      ],
      "metadata": {
        "id": "G1v8Ny3t8xA4"
      },
      "execution_count": 64,
      "outputs": []
    },
    {
      "cell_type": "code",
      "source": [
        "#Treinar o classificador\n",
        "model = clf.fit(train, train_labels)"
      ],
      "metadata": {
        "id": "Cfo5Bf0z6PCT"
      },
      "execution_count": 65,
      "outputs": []
    },
    {
      "cell_type": "code",
      "source": [
        "#fazer previsoes\n",
        "preds = clf.predict(test)\n",
        "\n",
        "print(preds)"
      ],
      "metadata": {
        "colab": {
          "base_uri": "https://localhost:8080/"
        },
        "id": "puzIv57t8Eim",
        "outputId": "be6e1211-f133-4807-a04b-c5e536fc8b4f"
      },
      "execution_count": 66,
      "outputs": [
        {
          "output_type": "stream",
          "name": "stdout",
          "text": [
            "[0 0 2 0 1 0 1 2 1 2 1 2 0 1 0 1 1 1 0 1 0 1 1 2 2 2 1 1 1 0 0 1 2 0 0 0 2\n",
            " 2 1 2 0 1 1 1 1 0 1 1 2 0 1 0 0 2 2 1 1 0 1 0 2 1 1 2 0 0 0 2 0 0 1 2 1 0\n",
            " 2 1 0 1 1 1 0 1 0 0 1 1 0 2 1 1 1 0 1 1 1 2 2 0 1 2 2 2 0 0 1 2 1]\n"
          ]
        }
      ]
    },
    {
      "cell_type": "code",
      "source": [
        "#Avaliar precisao\n",
        "from sklearn.ensemble import RandomForestClassifier\n",
        "\n",
        "print (accuracy_score(test_labels, preds))"
      ],
      "metadata": {
        "colab": {
          "base_uri": "https://localhost:8080/"
        },
        "id": "6DeMtEdy8YhB",
        "outputId": "a592b0d3-2cd6-4227-c2c6-95bdfdac2b99"
      },
      "execution_count": 72,
      "outputs": [
        {
          "output_type": "stream",
          "name": "stdout",
          "text": [
            "0.9345794392523364\n"
          ]
        }
      ]
    }
  ]
}